{
 "cells": [
  {
   "cell_type": "code",
   "execution_count": 5,
   "metadata": {
    "collapsed": true
   },
   "outputs": [],
   "source": [
    "from scipy.stats import entropy\n",
    "import numpy as np\n",
    "import matplotlib.pyplot as plt\n",
    "import dijkstra"
   ]
  },
  {
   "cell_type": "markdown",
   "metadata": {},
   "source": [
    "States form a 3x3 grid, start state is the middle. Actions are go up, down, right, left, stay."
   ]
  },
  {
   "cell_type": "code",
   "execution_count": 6,
   "metadata": {
    "collapsed": true
   },
   "outputs": [],
   "source": [
    "class Agent():\n",
    "    def __init__(self, goal):\n",
    "        self.goal = np.array(goal)\n",
    "        self.loc = np.array([0,0])\n",
    "        self.ACTIONS = [0, 1, 2, 3, 4]\n",
    "\n",
    "    def get_action_distr(self, loc):\n",
    "        distr = np.array([0.0, 0.0, 0.0, 0.0, 0.0])\n",
    "#         test_dists = [np.linalg.norm(self.goal - loc + np.array([0,1])),\n",
    "#                       np.linalg.norm(self.goal - loc + np.array([0,-1])),\n",
    "#                       np.linalg.norm(self.goal - loc + np.array([1,0])),\n",
    "#                       np.linalg.norm(self.goal - loc + np.array([-1,0])),\n",
    "#                       np.linalg.norm(self.goal - loc)\n",
    "#                      ]\n",
    "#         direction = np.argmin(test_dists)\n",
    "#         distr[direction] = 1.0\n",
    "        if loc[1] == self.goal[1] and loc[0] == self.goal[0]:\n",
    "            distr[4] = 1.0\n",
    "        elif loc[1] < self.goal[1]:\n",
    "            distr[0] = 1.0\n",
    "        elif loc[1] > self.goal[1]:\n",
    "            distr[1] = 1.0\n",
    "        elif loc[0] < self.goal[0]:\n",
    "            distr[2] = 1.0\n",
    "        else:\n",
    "            distr[3] = 1.0\n",
    "        return distr\n",
    "    \n",
    "    \n",
    "    def move(self, distr):\n",
    "        action = np.random.choice(self.ACTIONS, 1, p=distr)[0]\n",
    "        if action == 0:\n",
    "            self.loc[1] += 1\n",
    "        elif action == 1:\n",
    "            self.loc[1] -= 1\n",
    "        elif action == 2:\n",
    "            self.loc[0] += 1\n",
    "        else:\n",
    "            self.loc[0] -= 1\n",
    "            \n",
    "class MazeAgent():\n",
    "    import collections\n",
    "\n",
    "    def __init__(self, goal, walls, size):\n",
    "        self.size = size\n",
    "        self.goal = goal\n",
    "        self.loc = np.array([0,0])\n",
    "        self.graph = self.make_graph(walls)\n",
    "        self.ACTIONS = [0, 1, 2, 3, 4]\n",
    "\n",
    "    def get_action_distr(self, loc):\n",
    "        distr = np.array([0.0, 0.0, 0.0, 0.0, 0.0])\n",
    "        best_action = self.find_move_from_state(start=loc, state=self.find_optimal_first_move(loc))\n",
    "        distr[best_action] = 1.0\n",
    "        return distr\n",
    "    \n",
    "    # TODO: make states an enum\n",
    "    def find_move_from_state(self, start, state):\n",
    "        #make sure we only differ in one position by one move\n",
    "        #NOTE! != is xor for booleans in python\n",
    "        assert bool((start[0]-state[0])**2 == 1) != bool((start[1]-state[1])**2 == 1)\n",
    "        if state[1] == start[1] - 1:\n",
    "            return 0 # up\n",
    "        elif state[1] == start[1] + 1:\n",
    "            return 1 # down\n",
    "        elif state[0] == start[0] + 1:\n",
    "            return 2 # right\n",
    "        elif state[0] == start[0] - 1:\n",
    "            return 3 # left\n",
    "        else:\n",
    "            raise ValueError(\"bad states\")\n",
    "    \n",
    "    def find_optimal_first_move(self, start):\n",
    "        _, paths_back = self.graph.dijkstra(start)\n",
    "        # starting with a dictionary of nodes to adjacent nodes closest to start, walk back to find best first move\n",
    "        second_state = self.goal\n",
    "        last_state = paths_back[self.goal]\n",
    "        while last_state is not start:\n",
    "            second_state = last_state\n",
    "            last_state = paths_back[last_state]\n",
    "        return second_state\n",
    "    \n",
    "    def make_graph(self, walls):\n",
    "        x_coords = list(range(self.size))\n",
    "        y_coords = list(range(self.size))\n",
    "        states = []\n",
    "        for start_x in x_coords:\n",
    "            for start_y in y_coords:\n",
    "                states.append((start_x, start_y))\n",
    "                \n",
    "        graph = dijkstra.Digraph(nodes=states)\n",
    "        for start_x in x_coords:\n",
    "            for start_y in y_coords:\n",
    "                start = (start_x, start_y)\n",
    "                left = (start_x-1, start_y)\n",
    "                right = (start_x+1, start_y)\n",
    "                up = (start_x, start_y+1)\n",
    "                down = (start_x, start_y-1)\n",
    "                \n",
    "                if start_x - 1 >= 0 and left not in walls:\n",
    "                    graph.addEdge(start, left, 1)\n",
    "                if start_x + 1 < self.size and right not in walls:\n",
    "                    graph.addEdge(start, right, 1)\n",
    "                if start_y - 1 >= 0 and down not in walls:\n",
    "                    graph.addEdge(start, down, 1)\n",
    "                if start_x + 1 < self.size and up not in walls:\n",
    "                    graph.addEdge(start, up, 1)\n",
    "        return graph\n",
    "                \n",
    "    \n",
    "    def move(self, distr):\n",
    "        action = np.random.choice(self.ACTIONS, 1, p=distr)[0]\n",
    "        if action == 0:\n",
    "            self.loc[1] += 1\n",
    "        elif action == 1:\n",
    "            self.loc[1] -= 1\n",
    "        elif action == 2:\n",
    "            self.loc[0] += 1\n",
    "        else:\n",
    "            self.loc[0] -= 1\n",
    "            \n",
    "class NoisyMazeAgent(MazeAgent):\n",
    "    def __init__(self, goal, walls, size, opt_prob):\n",
    "        self.opt_prob = opt_prob\n",
    "        self.noise = (1-opt_prob)/4\n",
    "        MazeAgent.__init__(self, goal, walls, size)\n",
    "        \n",
    "    def get_action_distr(self, loc):\n",
    "        no_noise = list(MazeAgent.get_action_distr(self, loc))\n",
    "        print(no_noise)\n",
    "        noisy = no_noise\n",
    "        for index, elem in enumerate(no_noise):\n",
    "            if no_noise[index] == 1:\n",
    "                noisy[index] = self.opt_prob\n",
    "            else:\n",
    "                noisy[index] = self.noise\n",
    "        return noisy\n",
    "\n",
    "        \n",
    "def DiscreteJSD(P, Q):\n",
    "    M = (P + Q)/2\n",
    "    return (entropy(P, M) + entropy(Q, M))/2"
   ]
  },
  {
   "cell_type": "code",
   "execution_count": 7,
   "metadata": {
    "collapsed": true
   },
   "outputs": [],
   "source": [
    "class NoisyAgent(Agent):\n",
    "    def __init__(self, goal, opt_prob):\n",
    "        self.opt_prob = opt_prob\n",
    "        self.noise = (1-opt_prob)/4\n",
    "        Agent.__init__(self, goal)\n",
    "        \n",
    "    def get_action_distr(self, loc):\n",
    "        distr = [self.noise, self.noise, self.noise, self.noise, self.noise]\n",
    "        test_dists = [np.linalg.norm(self.goal - loc + np.array([0,1])),\n",
    "                      np.linalg.norm(self.goal - loc + np.array([0,-1])),\n",
    "                      np.linalg.norm(self.goal - loc + np.array([1,0])),\n",
    "                      np.linalg.norm(self.goal - loc + np.array([-1,0])),\n",
    "                      np.linalg.norm(self.goal - loc)\n",
    "                     ]\n",
    "        direction = np.argmin(test_dists)\n",
    "        distr[direction] = self.opt_prob\n",
    "#         if loc[1] == self.goal[1] and loc[0] == self.goal[0]:\n",
    "#             distr[4] = self.opt_prob\n",
    "#         elif loc[1] < self.goal[1]:\n",
    "#             distr[0] = self.opt_prob\n",
    "#         elif loc[1] > self.goal[1]:\n",
    "#             distr[1] = self.opt_prob\n",
    "#         elif loc[0] < self.goal[0]:\n",
    "#             distr[2] = self.opt_prob\n",
    "#         else:\n",
    "#             distr[3] = self.opt_prob\n",
    "        return np.array(distr)"
   ]
  },
  {
   "cell_type": "code",
   "execution_count": 8,
   "metadata": {},
   "outputs": [
    {
     "data": {
      "image/png": "[encoded data removed]",
      "text/plain": [
       "<matplotlib.figure.Figure at 0x106664710>"
      ]
     },
     "metadata": {},
     "output_type": "display_data"
    }
   ],
   "source": [
    "heatmapD = np.zeros((20, 20))\n",
    "for j in np.arange(-10,10):\n",
    "    for k in np.arange(-10, 10):\n",
    "        averages = []\n",
    "        for a in range(10):\n",
    "            N = NoisyAgent([5, 5], .75)\n",
    "            S = NoisyAgent([j, k], .75)\n",
    "            divergences = []\n",
    "            for i in range(20):\n",
    "                p1 = N.get_action_distr(N.loc)\n",
    "                q1 = S.get_action_distr(N.loc)\n",
    "                p2 = N.get_action_distr(S.loc)\n",
    "                q2 = S.get_action_distr(S.loc)\n",
    "                divergences.append( ((DiscreteJSD(p1, q1) ** (.5)) + (DiscreteJSD(p2, q2) ** (.5)))/2)\n",
    "                N.move(p1)\n",
    "                S.move(q2)\n",
    "            averages.append(sum(divergences)/len(divergences))\n",
    "        heatmapD[j + 10, k + 10] = sum(averages)/len(averages)\n",
    "plt.imshow(heatmapD, cmap='hot', interpolation='nearest')\n",
    "plt.show()\n"
   ]
  },
  {
   "cell_type": "code",
   "execution_count": 9,
   "metadata": {},
   "outputs": [
    {
     "data": {
      "text/plain": [
       "0.01317433542139912"
      ]
     },
     "execution_count": 9,
     "metadata": {},
     "output_type": "execute_result"
    }
   ],
   "source": [
    "heatmapD[17, 18]"
   ]
  },
  {
   "cell_type": "code",
   "execution_count": 6,
   "metadata": {
    "collapsed": true
   },
   "outputs": [],
   "source": [
    "def angle_between(v1, v2):\n",
    "    \"\"\" Returns the angle in radians between vectors 'v1' and 'v2'::\n",
    "\n",
    "            >>> angle_between((1, 0, 0), (0, 1, 0))\n",
    "            1.5707963267948966\n",
    "            >>> angle_between((1, 0, 0), (1, 0, 0))\n",
    "            0.0\n",
    "            >>> angle_between((1, 0, 0), (-1, 0, 0))\n",
    "            3.141592653589793\n",
    "    \"\"\"\n",
    "    v1_u = unit_vector(v1)\n",
    "    v2_u = unit_vector(v2)\n",
    "    return np.arccos(np.clip(np.dot(v1_u, v2_u), -1.0, 1.0))\n",
    "\n",
    "def unit_vector(vector):\n",
    "    \"\"\" Returns the unit vector of the vector.  \"\"\"\n",
    "    return vector / np.linalg.norm(vector)\n",
    "\n",
    "def pol2cart(rho, phi):\n",
    "    x = rho * np.cos(phi)\n",
    "    y = rho * np.sin(phi)\n",
    "    return(x, y)\n",
    "\n",
    "class CAgent():\n",
    "    def __init__(self, goal):\n",
    "        self.speed_lim = .25\n",
    "        self.speed_std = .4\n",
    "        self.angle_std = .4\n",
    "        self.goal = np.array(goal)\n",
    "        self.loc = np.array([0.0,0.0])\n",
    "\n",
    "    def get_action_distr(self, loc):\n",
    "        vec = self.goal - loc\n",
    "        dist = np.linalg.norm(vec)\n",
    "        if dist >= self.speed_lim:\n",
    "            mu_speed = self.speed_lim\n",
    "        else:\n",
    "            mu_speed = dist\n",
    "        if dist == 0:\n",
    "            return ((0, self.speed_std), (0, self.angle_std))\n",
    "        vec = vec/dist\n",
    "        mu_angle = angle_between(vec, np.array([1, 0]))\n",
    "        if (vec[1] < 0):\n",
    "            mu_angle = mu_angle * -1\n",
    "            \n",
    "        return ((mu_speed, self.speed_std), (mu_angle, self.angle_std))\n",
    "\n",
    "    def move(self, distr):\n",
    "        mu_speed, sgm_speed = distr[0]\n",
    "        mu_angle, sgm_angle = distr[1]\n",
    "        dist = np.random.normal(mu_speed, sgm_speed)\n",
    "        angle = np.random.normal(mu_angle, sgm_angle)\n",
    "        self.loc += np.array(pol2cart(dist, angle))\n",
    "        \n",
    "def GaussKL(mu_p, mu_q, sgm_p, sgm_q):    \n",
    "    return (np.log(np.linalg.det(sgm_q)) - np.log(np.linalg.det(sgm_p)) - mu_p.shape[0]\n",
    "            + np.trace(np.linalg.inv(sgm_q) @ sgm_p) +\n",
    "            (mu_q - mu_p).reshape(1, mu_p.shape[0]) @ np.linalg.inv(sgm_q) @ \n",
    "            (mu_q - mu_p).reshape(mu_p.shape[0], 1)\n",
    "           )/2\n",
    "\n",
    "def GaussSymmetricKL(P, Q):\n",
    "    mu_p, sgm_p = P\n",
    "    mu_q, sgm_q = Q\n",
    "    return (GaussKL(mu_p, mu_q, sgm_p, sgm_q) + GaussKL(mu_q, mu_p, sgm_q, sgm_p))/2"
   ]
  },
  {
   "cell_type": "code",
   "execution_count": 7,
   "metadata": {
    "scrolled": true
   },
   "outputs": [
    {
     "data": {
      "image/png": "[encoded data removed]",
      "text/plain": [
       "<Figure size 432x288 with 1 Axes>"
      ]
     },
     "metadata": {},
     "output_type": "display_data"
    }
   ],
   "source": [
    "heatmap = np.zeros((31, 31))\n",
    "for j in np.arange(-15,16):\n",
    "    for k in np.arange(-15, 16):\n",
    "        averages = []\n",
    "        for a in range(10):\n",
    "            N = CAgent([10, 0])\n",
    "            S = CAgent([j, k])\n",
    "            divergences = []\n",
    "            for i in range(30):\n",
    "                p1 = N.get_action_distr(N.loc)\n",
    "                q1 = S.get_action_distr(N.loc)\n",
    "                p2 = N.get_action_distr(S.loc)\n",
    "                q2 = S.get_action_distr(S.loc)\n",
    "                mu_p1 = np.array([p1[0][0], p1[1][0]])\n",
    "                mu_q1 = np.array([q1[0][0], q1[1][0]])\n",
    "                mu_p2 = np.array([p2[0][0], p2[1][0]])\n",
    "                mu_q2 = np.array([q2[0][0], q2[1][0]])\n",
    "                sgm_p1 = np.array([[p1[0][1], 0], [0, p1[1][1]]])\n",
    "                sgm_q1 = np.array([[q1[0][1], 0], [0, q1[1][1]]])\n",
    "                sgm_p2 = np.array([[p2[0][1], 0], [0, p2[1][1]]])\n",
    "                sgm_q2 = np.array([[q2[0][1], 0], [0, q2[1][1]]])\n",
    "                divergences.append( (GaussSymmetricKL((mu_p1, sgm_p1), (mu_q1, sgm_q1))**.5 +\n",
    "                                     GaussSymmetricKL((mu_p2, sgm_p2), (mu_q2, sgm_q2))**.5\n",
    "                                    ) / 2)\n",
    "                N.move(p1)\n",
    "                S.move(q2)\n",
    "            averages.append(sum(divergences)/len(divergences))\n",
    "        heatmap[j+15, k+15] = sum(averages)/len(averages)\n",
    "\n",
    "plt.imshow(heatmap, cmap='hot', interpolation='nearest')\n",
    "plt.show()"
   ]
  },
  {
   "cell_type": "code",
   "execution_count": null,
   "metadata": {
    "collapsed": true
   },
   "outputs": [],
   "source": []
  },
  {
   "cell_type": "code",
   "execution_count": 8,
   "metadata": {},
   "outputs": [
    {
     "name": "stderr",
     "output_type": "stream",
     "text": [
      "/Library/Frameworks/Python.framework/Versions/3.6/lib/python3.6/site-packages/h5py/__init__.py:36: FutureWarning: Conversion of the second argument of issubdtype from `float` to `np.floating` is deprecated. In future, it will be treated as `np.float64 == np.dtype(float).type`.\n",
      "  from ._conv import register_converters as _register_converters\n"
     ]
    },
    {
     "ename": "TypeError",
     "evalue": "__init__() got an unexpected keyword argument 'shape'",
     "traceback": [
      "\u001b[0;31m---------------------------------------------------------------------------\u001b[0m",
      "\u001b[0;31mTypeError\u001b[0m                                 Traceback (most recent call last)",
      "\u001b[0;32m<ipython-input-8-a797723b0162>\u001b[0m in \u001b[0;36m<module>\u001b[0;34m()\u001b[0m\n\u001b[1;32m      6\u001b[0m \u001b[0;34m\u001b[0m\u001b[0m\n\u001b[1;32m      7\u001b[0m \u001b[0miniter\u001b[0m \u001b[0;34m=\u001b[0m \u001b[0mtf\u001b[0m\u001b[0;34m.\u001b[0m\u001b[0mtruncated_normal_initializer\u001b[0m\u001b[0;34m(\u001b[0m\u001b[0mstddev\u001b[0m\u001b[0;34m=\u001b[0m\u001b[0;36m0.01\u001b[0m\u001b[0;34m)\u001b[0m\u001b[0;34m\u001b[0m\u001b[0m\n\u001b[0;32m----> 8\u001b[0;31m \u001b[0mW1\u001b[0m \u001b[0;34m=\u001b[0m \u001b[0mtf\u001b[0m\u001b[0;34m.\u001b[0m\u001b[0mVariable\u001b[0m\u001b[0;34m(\u001b[0m\u001b[0mdtype\u001b[0m\u001b[0;34m=\u001b[0m\u001b[0mtf\u001b[0m\u001b[0;34m.\u001b[0m\u001b[0mfloat32\u001b[0m\u001b[0;34m,\u001b[0m \u001b[0mshape\u001b[0m\u001b[0;34m=\u001b[0m\u001b[0;34m[\u001b[0m\u001b[0;36m2\u001b[0m\u001b[0;34m,\u001b[0m \u001b[0;36m4\u001b[0m\u001b[0;34m]\u001b[0m\u001b[0;34m,\u001b[0m \u001b[0minitializer\u001b[0m\u001b[0;34m=\u001b[0m\u001b[0miniter\u001b[0m\u001b[0;34m,\u001b[0m \u001b[0mname\u001b[0m\u001b[0;34m=\u001b[0m\u001b[0;34m\"weights_1\"\u001b[0m\u001b[0;34m)\u001b[0m\u001b[0;34m\u001b[0m\u001b[0m\n\u001b[0m\u001b[1;32m      9\u001b[0m \u001b[0mb1\u001b[0m \u001b[0;34m=\u001b[0m \u001b[0mtf\u001b[0m\u001b[0;34m.\u001b[0m\u001b[0mVariable\u001b[0m\u001b[0;34m(\u001b[0m\u001b[0mdtype\u001b[0m\u001b[0;34m=\u001b[0m\u001b[0mtf\u001b[0m\u001b[0;34m.\u001b[0m\u001b[0mfloat32\u001b[0m\u001b[0;34m,\u001b[0m \u001b[0mshape\u001b[0m\u001b[0;34m=\u001b[0m\u001b[0;34m[\u001b[0m\u001b[0;36m4\u001b[0m\u001b[0;34m]\u001b[0m\u001b[0;34m,\u001b[0m \u001b[0minitializer\u001b[0m\u001b[0;34m=\u001b[0m\u001b[0miniter\u001b[0m\u001b[0;34m,\u001b[0m \u001b[0mname\u001b[0m\u001b[0;34m=\u001b[0m\u001b[0;34m\"weights_1\"\u001b[0m\u001b[0;34m)\u001b[0m\u001b[0;34m\u001b[0m\u001b[0m\n\u001b[1;32m     10\u001b[0m \u001b[0mW2\u001b[0m \u001b[0;34m=\u001b[0m \u001b[0mtf\u001b[0m\u001b[0;34m.\u001b[0m\u001b[0mVariable\u001b[0m\u001b[0;34m(\u001b[0m\u001b[0mdtype\u001b[0m\u001b[0;34m=\u001b[0m\u001b[0mtf\u001b[0m\u001b[0;34m.\u001b[0m\u001b[0mfloat32\u001b[0m\u001b[0;34m,\u001b[0m \u001b[0mshape\u001b[0m\u001b[0;34m=\u001b[0m\u001b[0;34m[\u001b[0m\u001b[0;36m4\u001b[0m\u001b[0;34m,\u001b[0m \u001b[0;36m2\u001b[0m\u001b[0;34m]\u001b[0m\u001b[0;34m,\u001b[0m \u001b[0minitializer\u001b[0m\u001b[0;34m=\u001b[0m\u001b[0miniter\u001b[0m\u001b[0;34m,\u001b[0m \u001b[0mname\u001b[0m\u001b[0;34m=\u001b[0m\u001b[0;34m\"weights_1\"\u001b[0m\u001b[0;34m)\u001b[0m\u001b[0;34m\u001b[0m\u001b[0m\n",
      "\u001b[0;31mTypeError\u001b[0m: __init__() got an unexpected keyword argument 'shape'"
     ],
     "output_type": "error"
    }
   ],
   "source": [
    "import tensorflow as tf\n",
    "\n",
    "x1 = tf.placeholder(tf.float32, [None, 2], \"task_1\")\n",
    "x2 = tf.placeholder(tf.float32, [None, 2], \"task_2\")\n",
    "y = tf.placeholder(tf.float32, [None, 1], \"labels\")\n",
    "\n",
    "initer = tf.truncated_normal_initializer(stddev=0.01) \n",
    "W1 = tf.Variable(dtype=tf.float32, shape=[2, 4], initializer=initer, name=\"weights_1\")\n",
    "b1 = tf.Variable(dtype=tf.float32, shape=[4], initializer=initer, name=\"weights_1\")\n",
    "W2 = tf.Variable(dtype=tf.float32, shape=[4, 2], initializer=initer, name=\"weights_1\")\n",
    "b2 = tf.Variable(dtype=tf.float32, shape=[2], initializer=initer, name=\"weights_1\")\n",
    "\n",
    "net1 = tf.nn.relu(tf.nn.bias_add(tf.matmul(x1, W1), b1))\n",
    "net1 = tf.nn.bias_add(tf.matmul(net1, W2), b2)\n",
    "\n",
    "net2 = tf.nn.relu(tf.nn.bias_add(tf.matmul(x2, W1), b1))\n",
    "net2 = tf.nn.bias_add(tf.matmul(net2, W2), b2)\n",
    "\n",
    "eucd2 = tf.pow(tf.subtract(net1, net2), 2)\n",
    "eucd2 = tf.reduce_sum(eucd2, 1)\n",
    "eucd = tf.sqrt(eucd2+1e-6, name=\"eucd\")\n",
    "\n",
    "\n",
    "loss = tf.nn.sigmoid_cross_entropy_with_logits(logits)"
   ]
  },
  {
   "cell_type": "code",
   "execution_count": 8,
   "metadata": {},
   "outputs": [
    {
     "name": "stdout",
     "output_type": "stream",
     "text": [
      "({}, {}) -21 -13\n",
      "({}, {}) -13 -5\n",
      "({}, {}) -5 3\n",
      "({}, {}) 3 11\n",
      "({}, {}) 11 21\n"
     ]
    }
   ],
   "source": [
    "maximum_displacement = 21\n",
    "num_threads = 5\n",
    "for num in range(num_threads):\n",
    "    spacing = (2*maximum_displacement+1)//num_threads; \n",
    "    start_disp = -maximum_displacement + spacing*num\n",
    "    end_disp = -maximum_displacement + spacing*(num+1)\n",
    "    if(end_disp + spacing > maximum_displacement):\n",
    "        end_disp = maximum_displacement\n",
    "    print(\"({}, {})\", start_disp, end_disp)"
   ]
  },
  {
   "cell_type": "code",
   "execution_count": 24,
   "metadata": {},
   "outputs": [
    {
     "name": "stdout",
     "output_type": "stream",
     "text": [
      "{(1, 2, 1, 2), (3, 1, 1, 2), (1, 3, 1, 2), (2, 1, 1, 2)}\n",
      "{(2, 0, 1, 2), (1, 1, 0, 2), (1, 1, 1, 1), (0, 2, 1, 2)}\n",
      "1\n"
     ]
    }
   ],
   "source": [
    "def table_dim(n):\n",
    "    if(n == 1):\n",
    "        return [0]*5\n",
    "    else:\n",
    "        return [table_dim(n-1) for _ in range(5)]\n",
    "table = table_dim(4)\n",
    "\n",
    "def children(hands):\n",
    "    l1, r1, l2, r2 = hands\n",
    "    child_set = set()\n",
    "    if(r1 == 0 and l1 %2 == 0 and l1 > 0):\n",
    "        child_set.add((l2, r2, l1 // 2, l1//2))\n",
    "    elif(l1 == 0 and r1 %2 == 0 and r1 > 0):\n",
    "        child_set.add((l2, r2, r1 // 2, r1//2))\n",
    "        \n",
    "    if(l1 > 0):\n",
    "        child_set.add(((l2+l1)%5, r2, l1, r1))\n",
    "        child_set.add((l2, (r2+l1)%5, l1, r1))\n",
    "    if(r1 > 0):\n",
    "        child_set.add(((l2+r1)%5, r2, l1, r1))\n",
    "        child_set.add((l2, (r2+r1)%5, l1, r1))\n",
    "    return child_set\n",
    "        \n",
    "def parents(hands):\n",
    "    l1, r1, l2, r2 = hands\n",
    "    parent_set = set()\n",
    "    #Account for splits\n",
    "    if(l2 == r2 and l2 < 3):\n",
    "        parent_set.add((l2+r2, 0, l1, r1))\n",
    "        parent_set.add((0, l2+r2, l1, r1))\n",
    "    #Account for l2 being used\n",
    "    if(l2 > 0):\n",
    "        parent_set.add((l2, r2, (l1-l2)%5, r1))\n",
    "        parent_set.add((l2, r2, l1, (r1-l2)%5))\n",
    "    if(r2 > 0):\n",
    "        parent_set.add((l2, r2, (l1-r2)%5, r1))\n",
    "        parent_set.add((l2, r2, l1, (r1-r2)%5))\n",
    "    return parent_set\n",
    "\n",
    "\n",
    "print(children((1, 2, 1, 1)))\n",
    "print(parents((1, 2, 1, 1)))\n",
    "to_update = set()\n",
    "#Initialize to_update with parents of instantly losing positions\n",
    "for i in range(5):\n",
    "    for j in range(5):\n",
    "        if(not (i == 0 and j == 0)):\n",
    "            table[0][0][i][j] = -1\n",
    "            to_update.update(parents((0, 0, i, j)))\n",
    "            \n",
    "while(to_update):\n",
    "    hand = to_update.pop()\n",
    "    hl1, hr1, hl2, hr2 = hand\n",
    "    #continue of hand has already been filled in\n",
    "    if(table[hl1][hr1][hl2][hr2] != 0):\n",
    "        continue\n",
    "    hand_parents = parents(hand)\n",
    "    winning = 0\n",
    "    child_set = children(hand)\n",
    "    for child in child_set:\n",
    "        l1, r1, l2, r2 = child\n",
    "        if(table[l1][r1][l2][r2] < 0):\n",
    "            table[hl1][hr1][hl2][hr2] = 1\n",
    "            to_update.update(hand_parents)\n",
    "            break\n",
    "        if(table[l1][r1][l2][r2] > 0):\n",
    "            winning += 1\n",
    "    if(winning == len(child_set)):\n",
    "        table[hl1][hr1][hl2][hr2] = -1\n",
    "        to_update.update(hand_parents)\n",
    "\n",
    "print(table[2][2][3][3])\n",
    "            \n",
    "\n"
   ]
  },
  {
   "cell_type": "code",
   "execution_count": 26,
   "metadata": {},
   "outputs": [
    {
     "data": {
      "text/plain": [
       "(2, 1, 1, 1)"
      ]
     },
     "execution_count": 26,
     "metadata": {},
     "output_type": "execute_result"
    }
   ],
   "source": [
    "def get_move(hand):\n",
    "    hand_children = children(hand)\n",
    "    saved = None\n",
    "    for child in hand_children:\n",
    "        l1, r1, l2, r2 = child\n",
    "        if(table[l1][r1][l2][r2] < 0):\n",
    "            return child\n",
    "        elif(table[l1][r1][l2][r2] == 0):\n",
    "            saved = child\n",
    "    if(saved):\n",
    "        return saved\n",
    "    else:\n",
    "        return hand_children.pop()"
   ]
  },
  {
   "cell_type": "code",
   "execution_count": 33,
   "metadata": {},
   "outputs": [
    {
     "data": {
      "text/plain": [
       "(0, 0, 0, 2)"
      ]
     },
     "execution_count": 33,
     "metadata": {},
     "output_type": "execute_result"
    }
   ],
   "source": [
    "get_move((0, 2, 0, 3))"
   ]
  },
  {
   "cell_type": "code",
   "execution_count": 36,
   "metadata": {},
   "outputs": [
    {
     "name": "stdout",
     "output_type": "stream",
     "text": [
      "False\n",
      "True\n"
     ]
    }
   ],
   "source": [
    "# Returns True if A contains item and False otherwise\n",
    "def binary_search(A, item):\n",
    "    if len(A) == 0:\n",
    "        return False\n",
    "    else:\n",
    "        middle = len(A) // 2\n",
    "        if A[middle] == item:\n",
    "            return True\n",
    "        if(A[middle] > item):\n",
    "        #A[:middle] is a copy of the elements of A to the left of middle\n",
    "            return binary_search(A[:middle], item)\n",
    "        else:\n",
    "        #A[middle+1:] is a copy of the elements of A to the right of middle\n",
    "            return binary_search(A[middle + 1:], item)\n",
    "list = [1, 2, 3, 5, 8, 22, 34, 42, 87, 103]\n",
    "print(binary_search(list, 4))\n",
    "print(binary_search(list, 42))"
   ]
  },
  {
   "cell_type": "code",
   "execution_count": null,
   "metadata": {
    "collapsed": true
   },
   "outputs": [],
   "source": []
  }
 ],
 "metadata": {
  "kernelspec": {
   "display_name": "Python 3",
   "language": "python",
   "name": "python3"
  },
  "language_info": {
   "codemirror_mode": {
    "name": "ipython",
    "version": 3
   },
   "file_extension": ".py",
   "mimetype": "text/x-python",
   "name": "python",
   "nbconvert_exporter": "python",
   "pygments_lexer": "ipython3",
   "version": "3.6.1"
  }
 },
 "nbformat": 4,
 "nbformat_minor": 2
}
