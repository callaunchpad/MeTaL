{
 "cells": [
  {
   "cell_type": "code",
   "execution_count": 1,
   "metadata": {
    "collapsed": true
   },
   "outputs": [],
   "source": [
    "from scipy.stats import entropy\n",
    "import numpy as np\n",
    "import matplotlib.pyplot as plt"
   ]
  },
  {
   "cell_type": "markdown",
   "metadata": {},
   "source": [
    "States form a 3x3 grid, start state is the middle. Actions are go up, down, right, left."
   ]
  },
  {
   "cell_type": "code",
   "execution_count": 30,
   "metadata": {
    "collapsed": false
   },
   "outputs": [],
   "source": [
    "class Agent():\n",
    "    def __init__(self, goal):\n",
    "        self.goal = np.array(goal)\n",
    "        self.loc = np.array([0,0])\n",
    "        self.ACTIONS = [0, 1, 2, 3, 4]\n",
    "\n",
    "    def get_action_distr(self, loc):\n",
    "        distr = np.array([0.0, 0.0, 0.0, 0.0, 0.0])\n",
    "#         test_dists = [np.linalg.norm(self.goal - loc + np.array([0,1])),\n",
    "#                       np.linalg.norm(self.goal - loc + np.array([0,-1])),\n",
    "#                       np.linalg.norm(self.goal - loc + np.array([1,0])),\n",
    "#                       np.linalg.norm(self.goal - loc + np.array([-1,0])),\n",
    "#                       np.linalg.norm(self.goal - loc)\n",
    "#                      ]\n",
    "#         direction = np.argmin(test_dists)\n",
    "#         distr[direction] = 1.0\n",
    "        if loc[1] == self.goal[1] and loc[0] == self.goal[0]:\n",
    "            distr[4] = 1.0\n",
    "        elif loc[1] < self.goal[1]:\n",
    "            distr[0] = 1.0\n",
    "        elif loc[1] > self.goal[1]:\n",
    "            distr[1] = 1.0\n",
    "        elif loc[0] < self.goal[0]:\n",
    "            distr[2] = 1.0\n",
    "        else:\n",
    "            distr[3] = 1.0\n",
    "        return distr\n",
    "    \n",
    "    \n",
    "    def move(self, distr):\n",
    "        action = np.random.choice(self.ACTIONS, 1, p=distr)[0]\n",
    "        if action == 0:\n",
    "            self.loc[1] += 1\n",
    "        elif action == 1:\n",
    "            self.loc[1] -= 1\n",
    "        elif action == 2:\n",
    "            self.loc[0] += 1\n",
    "        else:\n",
    "            self.loc[0] -= 1\n",
    "        \n",
    "def DiscreteJSD(P, Q):\n",
    "    M = (P + Q)/2\n",
    "    return (entropy(P, M) + entropy(Q, M))/2"
   ]
  },
  {
   "cell_type": "code",
   "execution_count": 46,
   "metadata": {
    "collapsed": true
   },
   "outputs": [],
   "source": [
    "class NoisyAgent(Agent):\n",
    "    def __init__(self, goal, opt_prob):\n",
    "        self.opt_prob = opt_prob\n",
    "        self.noise = (1-opt_prob)/4\n",
    "        Agent.__init__(self, goal)\n",
    "        \n",
    "    def get_action_distr(self, loc):\n",
    "        distr = [self.noise, self.noise, self.noise, self.noise, self.noise]\n",
    "        test_dists = [np.linalg.norm(self.goal - loc + np.array([0,1])),\n",
    "                      np.linalg.norm(self.goal - loc + np.array([0,-1])),\n",
    "                      np.linalg.norm(self.goal - loc + np.array([1,0])),\n",
    "                      np.linalg.norm(self.goal - loc + np.array([-1,0])),\n",
    "                      np.linalg.norm(self.goal - loc)\n",
    "                     ]\n",
    "        direction = np.argmin(test_dists)\n",
    "        distr[direction] = self.opt_prob\n",
    "#         if loc[1] == self.goal[1] and loc[0] == self.goal[0]:\n",
    "#             distr[4] = self.opt_prob\n",
    "#         elif loc[1] < self.goal[1]:\n",
    "#             distr[0] = self.opt_prob\n",
    "#         elif loc[1] > self.goal[1]:\n",
    "#             distr[1] = self.opt_prob\n",
    "#         elif loc[0] < self.goal[0]:\n",
    "#             distr[2] = self.opt_prob\n",
    "#         else:\n",
    "#             distr[3] = self.opt_prob\n",
    "        return np.array(distr)"
   ]
  },
  {
   "cell_type": "code",
   "execution_count": 47,
   "metadata": {
    "collapsed": false
   },
   "outputs": [
    {
     "data": {
      "image/png": "[encoded data removed]",
      "text/plain": [
       "<matplotlib.figure.Figure at 0x1160f3198>"
      ]
     },
     "metadata": {},
     "output_type": "display_data"
    }
   ],
   "source": [
    "heatmapD = np.zeros((20, 20))\n",
    "for j in np.arange(-10,10):\n",
    "    for k in np.arange(-10, 10):\n",
    "        averages = []\n",
    "        for a in range(10):\n",
    "            N = NoisyAgent([5, 5], .75)\n",
    "            S = NoisyAgent([j, k], .75)\n",
    "            divergences = []\n",
    "            for i in range(20):\n",
    "                p1 = N.get_action_distr(N.loc)\n",
    "                q1 = S.get_action_distr(N.loc)\n",
    "                p2 = N.get_action_distr(S.loc)\n",
    "                q2 = S.get_action_distr(S.loc)\n",
    "                divergences.append( ((DiscreteJSD(p1, q1) ** (.5)) + (DiscreteJSD(p2, q2) ** (.5)))/2)\n",
    "                N.move(p1)\n",
    "                S.move(q2)\n",
    "            averages.append(sum(divergences)/len(divergences))\n",
    "        heatmapD[j + 10, k + 10] = sum(averages)/len(averages)\n",
    "plt.imshow(heatmapD, cmap='hot', interpolation='nearest')\n",
    "plt.show()\n"
   ]
  },
  {
   "cell_type": "code",
   "execution_count": 53,
   "metadata": {
    "collapsed": false
   },
   "outputs": [
    {
     "data": {
      "text/plain": [
       "0.008782890280932746"
      ]
     },
     "execution_count": 53,
     "metadata": {},
     "output_type": "execute_result"
    }
   ],
   "source": [
    "heatmapD[17, 18]"
   ]
  },
  {
   "cell_type": "code",
   "execution_count": 8,
   "metadata": {
    "collapsed": false
   },
   "outputs": [],
   "source": [
    "def angle_between(v1, v2):\n",
    "    \"\"\" Returns the angle in radians between vectors 'v1' and 'v2'::\n",
    "\n",
    "            >>> angle_between((1, 0, 0), (0, 1, 0))\n",
    "            1.5707963267948966\n",
    "            >>> angle_between((1, 0, 0), (1, 0, 0))\n",
    "            0.0\n",
    "            >>> angle_between((1, 0, 0), (-1, 0, 0))\n",
    "            3.141592653589793\n",
    "    \"\"\"\n",
    "    v1_u = unit_vector(v1)\n",
    "    v2_u = unit_vector(v2)\n",
    "    return np.arccos(np.clip(np.dot(v1_u, v2_u), -1.0, 1.0))\n",
    "\n",
    "def unit_vector(vector):\n",
    "    \"\"\" Returns the unit vector of the vector.  \"\"\"\n",
    "    return vector / np.linalg.norm(vector)\n",
    "\n",
    "def pol2cart(rho, phi):\n",
    "    x = rho * np.cos(phi)\n",
    "    y = rho * np.sin(phi)\n",
    "    return(x, y)\n",
    "\n",
    "class CAgent():\n",
    "    def __init__(self, goal):\n",
    "        self.speed_lim = .25\n",
    "        self.speed_std = .4\n",
    "        self.angle_std = .4\n",
    "        self.goal = np.array(goal)\n",
    "        self.loc = np.array([0.0,0.0])\n",
    "\n",
    "    def get_action_distr(self, loc):\n",
    "        vec = self.goal - loc\n",
    "        dist = np.linalg.norm(vec)\n",
    "        if dist >= self.speed_lim:\n",
    "            mu_speed = self.speed_lim\n",
    "        else:\n",
    "            mu_speed = dist\n",
    "        if dist == 0:\n",
    "            return ((0, self.speed_std), (0, self.angle_std))\n",
    "        vec = vec/dist\n",
    "        mu_angle = angle_between(vec, np.array([1, 0]))\n",
    "        if (vec[1] < 0):\n",
    "            mu_angle = mu_angle * -1\n",
    "            \n",
    "        return ((mu_speed, self.speed_std), (mu_angle, self.angle_std))\n",
    "\n",
    "    def move(self, distr):\n",
    "        mu_speed, sgm_speed = distr[0]\n",
    "        mu_angle, sgm_angle = distr[1]\n",
    "        dist = np.random.normal(mu_speed, sgm_speed)\n",
    "        angle = np.random.normal(mu_angle, sgm_angle)\n",
    "        self.loc += np.array(pol2cart(dist, angle))\n",
    "        \n",
    "def GaussKL(mu_p, mu_q, sgm_p, sgm_q):    \n",
    "    return (np.log(np.linalg.det(sgm_q)) - np.log(np.linalg.det(sgm_p)) - mu_p.shape[0]\n",
    "            + np.trace(np.linalg.inv(sgm_q) @ sgm_p) +\n",
    "            (mu_q - mu_p).reshape(1, mu_p.shape[0]) @ np.linalg.inv(sgm_q) @ \n",
    "            (mu_q - mu_p).reshape(mu_p.shape[0], 1)\n",
    "           )/2\n",
    "\n",
    "def GaussSymmetricKL(P, Q):\n",
    "    mu_p, sgm_p = P\n",
    "    mu_q, sgm_q = Q\n",
    "    return (GaussKL(mu_p, mu_q, sgm_p, sgm_q) + GaussKL(mu_q, mu_p, sgm_q, sgm_p))/2"
   ]
  },
  {
   "cell_type": "code",
   "execution_count": 57,
   "metadata": {
    "collapsed": false,
    "scrolled": true
   },
   "outputs": [
    {
     "data": {
      "image/png": "[encoded data removed]",
      "text/plain": [
       "<matplotlib.figure.Figure at 0x1155a6c88>"
      ]
     },
     "metadata": {},
     "output_type": "display_data"
    }
   ],
   "source": [
    "heatmap = np.zeros((31, 31))\n",
    "for j in np.arange(-15,16):\n",
    "    for k in np.arange(-15, 16):\n",
    "        averages = []\n",
    "        for a in range(10):\n",
    "            N = CAgent([10, 0])\n",
    "            S = CAgent([j, k])\n",
    "            divergences = []\n",
    "            for i in range(30):\n",
    "                p1 = N.get_action_distr(N.loc)\n",
    "                q1 = S.get_action_distr(N.loc)\n",
    "                p2 = N.get_action_distr(S.loc)\n",
    "                q2 = S.get_action_distr(S.loc)\n",
    "                mu_p1 = np.array([p1[0][0], p1[1][0]])\n",
    "                mu_q1 = np.array([q1[0][0], q1[1][0]])\n",
    "                mu_p2 = np.array([p2[0][0], p2[1][0]])\n",
    "                mu_q2 = np.array([q2[0][0], q2[1][0]])\n",
    "                sgm_p1 = np.array([[p1[0][1], 0], [0, p1[1][1]]])\n",
    "                sgm_q1 = np.array([[q1[0][1], 0], [0, q1[1][1]]])\n",
    "                sgm_p2 = np.array([[p2[0][1], 0], [0, p2[1][1]]])\n",
    "                sgm_q2 = np.array([[q2[0][1], 0], [0, q2[1][1]]])\n",
    "                divergences.append( (GaussSymmetricKL((mu_p1, sgm_p1), (mu_q1, sgm_q1))**.5 +\n",
    "                                     GaussSymmetricKL((mu_p2, sgm_p2), (mu_q2, sgm_q2))**.5\n",
    "                                    ) / 2)\n",
    "                N.move(p1)\n",
    "                S.move(q2)\n",
    "            averages.append(sum(divergences)/len(divergences))\n",
    "        heatmap[j+15, k+15] = sum(averages)/len(averages)\n",
    "\n",
    "plt.imshow(heatmap, cmap='hot', interpolation='nearest')\n",
    "plt.show()"
   ]
  },
  {
   "cell_type": "code",
   "execution_count": null,
   "metadata": {
    "collapsed": true
   },
   "outputs": [],
   "source": []
  },
  {
   "cell_type": "code",
   "execution_count": null,
   "metadata": {
    "collapsed": false
   },
   "outputs": [],
   "source": [
    "import tensorflow as tf\n",
    "\n",
    "x1 = tf.placeholder(tf.float32, [None, 2], \"task_1\")\n",
    "x2 = tf.placeholder(tf.float32, [None, 2], \"task_2\")\n",
    "y = tf.placeholder(tf.float32, [None, 1], \"labels\")\n",
    "\n",
    "initer = tf.truncated_normal_initializer(stddev=0.01) \n",
    "W1 = tf.Variable(dtype=tf.float32, shape=[2, 4], initializer=initer, name=\"weights_1\")\n",
    "b1 = tf.Variable(dtype=tf.float32, shape=[4], initializer=initer, name=\"weights_1\")\n",
    "W2 = tf.Variable(dtype=tf.float32, shape=[4, 2], initializer=initer, name=\"weights_1\")\n",
    "b2 = tf.Variable(dtype=tf.float32, shape=[2], initializer=initer, name=\"weights_1\")\n",
    "\n",
    "net1 = tf.nn.relu(tf.nn.bias_add(tf.matmul(x1, W1), b1))\n",
    "net1 = tf.nn.bias_add(tf.matmul(net1, W2), b2)\n",
    "\n",
    "net2 = tf.nn.relu(tf.nn.bias_add(tf.matmul(x2, W1), b1))\n",
    "net2 = tf.nn.bias_add(tf.matmul(net2, W2), b2)\n",
    "\n",
    "eucd2 = tf.pow(tf.subtract(net1, net2), 2)\n",
    "eucd2 = tf.reduce_sum(eucd2, 1)\n",
    "eucd = tf.sqrt(eucd2+1e-6, name=\"eucd\")\n",
    "\n",
    "\n",
    "loss = tf.nn.sigmoid_cross_entropy_with_logits(logits)"
   ]
  },
  {
   "cell_type": "code",
   "execution_count": null,
   "metadata": {
    "collapsed": true
   },
   "outputs": [],
   "source": []
  }
 ],
 "metadata": {
  "kernelspec": {
   "display_name": "Python 3",
   "language": "python",
   "name": "python3"
  },
  "language_info": {
   "codemirror_mode": {
    "name": "ipython",
    "version": 3
   },
   "file_extension": ".py",
   "mimetype": "text/x-python",
   "name": "python",
   "nbconvert_exporter": "python",
   "pygments_lexer": "ipython3",
   "version": "3.6.0"
  }
 },
 "nbformat": 4,
 "nbformat_minor": 2
}
