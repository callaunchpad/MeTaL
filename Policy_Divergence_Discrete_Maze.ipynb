{
 "cells": [
  {
   "cell_type": "code",
   "execution_count": 69,
   "metadata": {},
   "outputs": [
    {
     "data": {
      "image/png": "[encoded data removed]",
      "text/plain": [
       "<matplotlib.figure.Figure at 0x1187a9780>"
      ]
     },
     "metadata": {},
     "output_type": "display_data"
    }
   ],
   "source": [
    "# Random Maze Generator using Depth-first Search\n",
    "# http://en.wikipedia.org/wiki/Maze_generation_algorithm\n",
    "# FB36 - 20130106\n",
    "import random\n",
    "import matplotlib.pyplot as plt\n",
    "import numpy as np\n",
    "\n",
    "imgx = 10; imgy = 10\n",
    "image = Image.new(\"RGB\", (imgx, imgy))\n",
    "pixels = image.load()\n",
    "mx = 10; my = 10 # width and height of the maze\n",
    "maze = [[0 for x in range(mx)] for y in range(my)]\n",
    "dx = [0, 1, 0, -1]; dy = [-1, 0, 1, 0] # 4 directions to move in the maze\n",
    "color = [(0, 0, 0), (255, 255, 255)] # RGB colors of the maze\n",
    "# start the maze from a random cell\n",
    "cx = random.randint(0, mx - 1); cy = random.randint(0, my - 1)\n",
    "maze[cy][cx] = 1; stack = [(cx, cy, 0)] # stack element: (x, y, direction)\n",
    "\n",
    "while len(stack) > 0:\n",
    "    (cx, cy, cd) = stack[-1]\n",
    "    # to prevent zigzags:\n",
    "    # if changed direction in the last move then cannot change again\n",
    "    if len(stack) > 2:\n",
    "        if cd != stack[-2][2]: dirRange = [cd]\n",
    "        else: dirRange = range(4)\n",
    "    else: dirRange = range(4)\n",
    "\n",
    "    # find a new cell to add\n",
    "    nlst = [] # list of available neighbors\n",
    "    for i in dirRange:\n",
    "        nx = cx + dx[i]; ny = cy + dy[i]\n",
    "        if nx >= 0 and nx < mx and ny >= 0 and ny < my:\n",
    "            if maze[ny][nx] == 0:\n",
    "                ctr = 0 # of occupied neighbors must be 1\n",
    "                for j in range(4):\n",
    "                    ex = nx + dx[j]; ey = ny + dy[j]\n",
    "                    if ex >= 0 and ex < mx and ey >= 0 and ey < my:\n",
    "                        if maze[ey][ex] == 1: ctr += 1\n",
    "                if ctr == 1: nlst.append(i)\n",
    "\n",
    "    # if 1 or more neighbors available then randomly select one and move\n",
    "    if len(nlst) > 0:\n",
    "        ir = nlst[random.randint(0, len(nlst) - 1)]\n",
    "        cx += dx[ir]; cy += dy[ir]; maze[cy][cx] = 1\n",
    "        stack.append((cx, cy, ir))\n",
    "    else: stack.pop()\n",
    "\n",
    "for i in range(len(maze)):\n",
    "    for j in range(len(maze[i])):\n",
    "        if(random.random() > 0.8 and maze[i][j] == 0):\n",
    "            maze[i][j] = 1\n",
    "    \n",
    "\n",
    "maze = np.array(maze)\n",
    "plt.imshow(maze)\n",
    "plt.show()  \n",
    "maze = 1-maze\n",
    "\"\"\"\n",
    "maze = [[0 0 0 0 0 0 1 0 0 0]\n",
    " [0 1 0 1 0 0 1 0 1 0]\n",
    " [0 0 0 0 1 0 0 0 1 0]\n",
    " [0 1 0 0 1 0 1 0 1 0]\n",
    " [0 1 1 0 1 0 0 0 0 0]\n",
    " [0 0 0 0 0 1 1 1 1 0]\n",
    " [1 1 0 1 0 1 0 0 0 0]\n",
    " [0 1 0 0 0 1 0 1 1 0]\n",
    " [0 1 0 1 1 1 0 1 1 0]\n",
    " [0 0 0 0 0 0 0 1 0 0]]\n",
    " \"\"\"\n"
   ]
  },
  {
   "cell_type": "code",
   "execution_count": 120,
   "metadata": {},
   "outputs": [
    {
     "data": {
      "image/png": "[encoded data removed]",
      "text/plain": [
       "<matplotlib.figure.Figure at 0x1c34eea358>"
      ]
     },
     "metadata": {},
     "output_type": "display_data"
    },
    {
     "name": "stdout",
     "output_type": "stream",
     "text": [
      "0.1399847937864787\n",
      "0.2865638644601136\n"
     ]
    }
   ],
   "source": [
    "from scipy.stats import entropy\n",
    "\n",
    "actions = np.array([[1, 0], [0, 1], [-1, 0], [0, -1]])\n",
    "def is_valid(state, maze):\n",
    "    if(state[0] >= len(maze) or state[1] >= len(maze[0]) \\\n",
    "       or state[0] < 0 or state[1] < 0 or maze[state[0]][state[1]] == 1): \n",
    "        return False\n",
    "    else:\n",
    "        return True\n",
    "\n",
    "def get_distance_map(maze, goal):\n",
    "    distance_map = [[float(\"inf\")] * len(maze[0]) for _ in maze]\n",
    "    distance_map[goal[0]][goal[1]] = 0\n",
    "    shell = [goal]\n",
    "    while shell:\n",
    "        new_shell = []\n",
    "        for state in shell: \n",
    "            distance = distance_map[state[0]][state[1]]\n",
    "            for action in actions:\n",
    "                new_state = (state + action).tolist()\n",
    "                if(is_valid(new_state, maze)):\n",
    "                    if(distance_map[new_state[0]][new_state[1]] > (distance + 1)):\n",
    "                        distance_map[new_state[0]][new_state[1]] = distance + 1\n",
    "                        new_shell.append(new_state)\n",
    "        shell = new_shell\n",
    "    return distance_map  \n",
    "\n",
    "def movement(state, action, maze, distance_map):\n",
    "    next_state = state + action\n",
    "    if(is_valid(next_state, maze)):\n",
    "        return (state, action, distance_map[state[0]][state[1]] \\\n",
    "                - distance_map[next_state[0]][next_state[1]], np.array(next_state))\n",
    "    else:\n",
    "        return (state, action, 0, state)\n",
    "\n",
    "def random_movement(weights):\n",
    "    total = sum(weights)\n",
    "    rand_val = total*random.random()\n",
    "    total = 0\n",
    "    ret_val = 0\n",
    "    for weight in weights:\n",
    "        total += weight\n",
    "        if(total > rand_val):\n",
    "            return ret_val\n",
    "        else:\n",
    "            ret_val += 1\n",
    "def random_agent(state):\n",
    "    return np.array([0.2, 0.4, 0.1, 0.3])\n",
    "\n",
    "def create_heatmap(agent, maze, start, num_walks, walk_len, goal):\n",
    "    square_counts = maze*0\n",
    "    distance_map = get_distance_map(maze, goal)\n",
    "    \n",
    "    for i in range(num_walks):\n",
    "        state = start\n",
    "        for j in range(walk_len):\n",
    "            square_counts[state[0]][state[1]] += 1\n",
    "            distribution = agent(state)\n",
    "            action_num = random_movement(distribution)\n",
    "            action = actions[action_num, :]\n",
    "            _, _, _, next_state = movement(state, action, maze, distance_map)\n",
    "            if(next_state[0] == goal[0] and next_state[1] == goal[1]):\n",
    "                continue\n",
    "            state = next_state\n",
    "    max_count = np.amax(square_counts)\n",
    "    return square_counts / max_count\n",
    "\n",
    "def DiscreteJSD(P, Q):\n",
    "    M = (P + Q)/2\n",
    "    return (entropy(P, M) + entropy(Q, M))/2\n",
    "        \n",
    "def get_divergence(agent1, agent2, goal1, goal2, maze, start, num_walks, walk_len):\n",
    "    distance_map = get_distance_map(maze, goal)\n",
    "    averages = []\n",
    "    for i in range(num_walks):\n",
    "        state1 = start\n",
    "        state2 = start\n",
    "        divergences = []\n",
    "        for j in range(walk_len):\n",
    "            p1 = agent1(state1)\n",
    "            q1 = agent2(state1)\n",
    "            p2 = agent1(state2)\n",
    "            q2 = agent2(state2)\n",
    "            action1 = actions[random_movement(p1), :]\n",
    "            action2 = actions[random_movement(q2), :]\n",
    "            divergences.append( ((DiscreteJSD(p1, q1) ** (.5)) + (DiscreteJSD(p2, q2) ** (.5)))/2)\n",
    "            _, _, _, state1 = movement(state1, action1, maze, distance_map)\n",
    "            _, _, _, state2 = movement(state2, action2, maze, distance_map)\n",
    "            if(state1[0] == goal1[0] and state1[1] == goal1[1]):\n",
    "                continue\n",
    "            if(state2[0] == goal2[0] and state2[1] == goal2[1]):\n",
    "                continue\n",
    "        averages.append(sum(divergences)/len(divergences))\n",
    "    return sum(averages)/len(averages)\n",
    "\n",
    "def agent1(state):\n",
    "    x = state[0]\n",
    "    y = state[1]\n",
    "    weights = [x*y+random.random(), x+random.random(), y+random.random(), max(x*x-y*y, y*y-x*x)]\n",
    "    total = sum(weights)\n",
    "    for i in range(4):\n",
    "        weights[i] /= total\n",
    "    return np.array(weights)\n",
    "\n",
    "heatmap = create_heatmap(agent1, maze, np.array([0, 0]), 500, 25, np.array([9, 9]))  \n",
    "plt.imshow(np.power(heatmap, 0.2)-maze, interpolation='nearest')\n",
    "plt.show() \n",
    "\n",
    "start = np.array([0, 0])\n",
    "goal1 = np.array([9, 9])\n",
    "goal2 = np.array([9, 9])\n",
    "num_walks = 500\n",
    "walk_len = 25\n",
    "print(get_divergence(agent1, agent1, goal1, goal2, maze, start, num_walks, walk_len))\n",
    "print(get_divergence(agent1, random_agent, goal1, goal2, maze, start, num_walks, walk_len))"
   ]
  },
  {
   "cell_type": "code",
   "execution_count": null,
   "metadata": {},
   "outputs": [],
   "source": []
  },
  {
   "cell_type": "code",
   "execution_count": 103,
   "metadata": {},
   "outputs": [
    {
     "name": "stdout",
     "output_type": "stream",
     "text": [
      "2\n"
     ]
    }
   ],
   "source": [
    "test_array = np.array([[0, 1, 2], [3, 4, 5]])\n",
    "print(test_array[0][2])"
   ]
  },
  {
   "cell_type": "code",
   "execution_count": null,
   "metadata": {
    "collapsed": true
   },
   "outputs": [],
   "source": []
  }
 ],
 "metadata": {
  "kernelspec": {
   "display_name": "Python 3",
   "language": "python",
   "name": "python3"
  },
  "language_info": {
   "codemirror_mode": {
    "name": "ipython",
    "version": 3
   },
   "file_extension": ".py",
   "mimetype": "text/x-python",
   "name": "python",
   "nbconvert_exporter": "python",
   "pygments_lexer": "ipython3",
   "version": "3.6.1"
  }
 },
 "nbformat": 4,
 "nbformat_minor": 2
}
